{
  "cells": [
    {
      "cell_type": "code",
      "execution_count": null,
      "metadata": {
        "id": "PJ2VObxKndUv"
      },
      "outputs": [],
      "source": [
        "!pip install transformers==4.50.0 datasets==3.5.0 accelerate==1.6.0 peft==0.15.0 bitsandbytes==0.45.2 -qqq"
      ]
    },
    {
      "cell_type": "code",
      "execution_count": null,
      "metadata": {
        "id": "EwgR3I7tvkGY"
      },
      "outputs": [],
      "source": [
        "import transformers\n",
        "import datasets\n",
        "import accelerate\n",
        "import peft\n",
        "import bitsandbytes\n",
        "import warnings\n",
        "warnings.filterwarnings('ignore')"
      ]
    },
    {
      "cell_type": "markdown",
      "metadata": {
        "id": "1kCUlXvRghay"
      },
      "source": [
        "## 예제 5.1. 메모리 사용량 측정을 위한 함수 구현"
      ]
    },
    {
      "cell_type": "code",
      "execution_count": null,
      "metadata": {
        "id": "2B8DIPZVmsgj"
      },
      "outputs": [],
      "source": [
        "import torch\n",
        "\n",
        "def print_gpu_utilization():\n",
        "    if torch.cuda.is_available():\n",
        "        used_memory = torch.cuda.memory_allocated() / 1024**3\n",
        "        print(f\"GPU 메모리 사용량: {used_memory:.3f} GB\")\n",
        "    else:\n",
        "        print(\"런타임 유형을 GPU로 변경하세요\")\n",
        "\n",
        "print_gpu_utilization()\n",
        "# 출력 결과\n",
        "# GPU 메모리 사용량: 0.000 GB"
      ]
    },
    {
      "cell_type": "markdown",
      "metadata": {
        "id": "K2xD7tW0gjpw"
      },
      "source": [
        "## 예제 5.2. 모델을 불러오고 GPU 메모리와 데이터 타입 확인"
      ]
    },
    {
      "cell_type": "code",
      "execution_count": null,
      "metadata": {
        "id": "sKxVEADBm-_o"
      },
      "outputs": [],
      "source": [
        "from transformers import AutoModelForCausalLM, AutoTokenizer\n",
        "\n",
        "def load_model_and_tokenizer(model_id, peft=None):\n",
        "    tokenizer = AutoTokenizer.from_pretrained(model_id)\n",
        "    if peft is None:\n",
        "        model = AutoModelForCausalLM.from_pretrained(model_id, torch_dtype=\"auto\", device_map={\"\":0})\n",
        "\n",
        "    print_gpu_utilization()\n",
        "    return model, tokenizer\n",
        "\n",
        "model_id = \"EleutherAI/polyglot-ko-1.3b\"\n",
        "model, tokenizer = load_model_and_tokenizer(model_id) # GPU 메모리 사용량: 2.599 GB\n",
        "print(\"모델 파라미터 데이터 타입: \", model.dtype) # torch.float16"
      ]
    },
    {
      "cell_type": "markdown",
      "metadata": {
        "id": "0kcI2zbHglq0"
      },
      "source": [
        "## 예제 5.3. 그레이디언트와 옵티마이저 상태의 메모리 사용량을 계산하는 함수"
      ]
    },
    {
      "cell_type": "code",
      "execution_count": null,
      "metadata": {
        "id": "wO3BN3Ayvor0"
      },
      "outputs": [],
      "source": [
        "from torch.optim import AdamW\n",
        "from torch.utils.data import DataLoader\n",
        "\n",
        "def estimate_memory_of_gradients(model):\n",
        "    total_memory = 0\n",
        "    for param in model.parameters():\n",
        "        if param.grad is not None:\n",
        "            total_memory += param.grad.nelement() * param.grad.element_size()\n",
        "    return total_memory\n",
        "\n",
        "def estimate_memory_of_optimizer(optimizer):\n",
        "    total_memory = 0\n",
        "    for state in optimizer.state.values():\n",
        "        for k, v in state.items():\n",
        "            if torch.is_tensor(v):\n",
        "                total_memory += v.nelement() * v.element_size()\n",
        "    return total_memory"
      ]
    },
    {
      "cell_type": "markdown",
      "metadata": {
        "id": "gaYbUqvrgoAV"
      },
      "source": [
        "## 예제 5.4. 모델의 학습 과정에서 메모리 사용량을 확인하는 train_model 정의"
      ]
    },
    {
      "cell_type": "code",
      "execution_count": null,
      "metadata": {
        "id": "9QvS6FL2VGvq"
      },
      "outputs": [],
      "source": [
        "def train_model(model, dataset, training_args):\n",
        "    if training_args.gradient_checkpointing:\n",
        "        model.gradient_checkpointing_enable()\n",
        "\n",
        "    train_dataloader = DataLoader(dataset, batch_size=training_args.per_device_train_batch_size)\n",
        "    optimizer = AdamW(model.parameters())\n",
        "    model.train()\n",
        "    gpu_utilization_printed = False\n",
        "    for step, batch in enumerate(train_dataloader, start=1):\n",
        "        batch = {k: v.to(model.device) for k, v in batch.items()}\n",
        "\n",
        "        outputs = model(**batch)\n",
        "        loss = outputs.loss\n",
        "        loss = loss / training_args.gradient_accumulation_steps\n",
        "        loss.backward()\n",
        "\n",
        "        if step % training_args.gradient_accumulation_steps == 0:\n",
        "            optimizer.step()\n",
        "            gradients_memory = estimate_memory_of_gradients(model)\n",
        "            optimizer_memory = estimate_memory_of_optimizer(optimizer)\n",
        "            if not gpu_utilization_printed:\n",
        "                print_gpu_utilization()\n",
        "                gpu_utilization_printed = True\n",
        "            optimizer.zero_grad()\n",
        "\n",
        "    print(f\"옵티마이저 상태의 메모리 사용량: {optimizer_memory / (1024 ** 3):.3f} GB\")\n",
        "    print(f\"그레디언트 메모리 사용량: {gradients_memory / (1024 ** 3):.3f} GB\")"
      ]
    },
    {
      "cell_type": "markdown",
      "metadata": {
        "id": "TmABYRmFgqb1"
      },
      "source": [
        "## 예제 5.5. 랜덤 데이터셋을 생성하는 make_dummy_dataset 정의"
      ]
    },
    {
      "cell_type": "code",
      "execution_count": null,
      "metadata": {
        "id": "V4cL_huKxF0z"
      },
      "outputs": [],
      "source": [
        "import numpy as np\n",
        "from datasets import Dataset\n",
        "\n",
        "def make_dummy_dataset():\n",
        "  seq_len, dataset_size = 256, 64\n",
        "  dummy_data = {\n",
        "      \"input_ids\": np.random.randint(100, 30000, (dataset_size, seq_len)),\n",
        "      \"labels\": np.random.randint(100, 30000, (dataset_size, seq_len)),\n",
        "  }\n",
        "  dataset = Dataset.from_dict(dummy_data)\n",
        "  dataset.set_format(\"pt\")\n",
        "  return dataset"
      ]
    },
    {
      "cell_type": "markdown",
      "metadata": {
        "id": "nNaQ-ijXgsZS"
      },
      "source": [
        "## 예제 5.6. 더이상 사용하지 않는 GPU 메모리를 반환하는 cleanup 함수"
      ]
    },
    {
      "cell_type": "code",
      "execution_count": null,
      "metadata": {
        "id": "7EG1VGsE3--n"
      },
      "outputs": [],
      "source": [
        "import gc\n",
        "\n",
        "def cleanup():\n",
        "    if 'model' in globals():\n",
        "        del globals()['model']\n",
        "    if 'dataset' in globals():\n",
        "        del globals()['dataset']\n",
        "    gc.collect()\n",
        "    torch.cuda.empty_cache()"
      ]
    },
    {
      "cell_type": "markdown",
      "metadata": {
        "id": "mD4Ny4o4g8xp"
      },
      "source": [
        "## 예제 5.7. GPU 사용량을 확인하는 gpu_memory_experiment 함수 정의"
      ]
    },
    {
      "cell_type": "code",
      "execution_count": null,
      "metadata": {
        "id": "IOITvps5okzy"
      },
      "outputs": [],
      "source": [
        "from transformers import TrainingArguments, Trainer\n",
        "\n",
        "def gpu_memory_experiment(batch_size,\n",
        "                          gradient_accumulation_steps=1,\n",
        "                          gradient_checkpointing=False,\n",
        "                          model_id=\"EleutherAI/polyglot-ko-1.3b\",\n",
        "                          peft=None):\n",
        "\n",
        "    print(f\"배치 사이즈: {batch_size}\")\n",
        "    model, tokenizer = load_model_and_tokenizer(model_id, peft=peft)\n",
        "    if gradient_checkpointing == True or peft == 'qlora':\n",
        "        model.config.use_cache = False\n",
        "\n",
        "    dataset = make_dummy_dataset()\n",
        "\n",
        "    training_args = TrainingArguments(\n",
        "        per_device_train_batch_size=batch_size,\n",
        "        gradient_accumulation_steps=gradient_accumulation_steps,\n",
        "        gradient_checkpointing=gradient_checkpointing,\n",
        "        output_dir=\"./result\",\n",
        "        num_train_epochs=1\n",
        "      )\n",
        "\n",
        "    try:\n",
        "        train_model(model, dataset, training_args)\n",
        "    except RuntimeError as e:\n",
        "        if \"CUDA out of memory\" in str(e):\n",
        "            print(e)\n",
        "        else:\n",
        "            raise e\n",
        "    finally:\n",
        "        del model, dataset\n",
        "        gc.collect()\n",
        "        torch.cuda.empty_cache()\n",
        "        print_gpu_utilization()"
      ]
    },
    {
      "cell_type": "markdown",
      "metadata": {
        "id": "tDg029vEhAsH"
      },
      "source": [
        "## 예제 5.8. 배치 사이즈를 변경하며 메모리 사용량 측정"
      ]
    },
    {
      "cell_type": "code",
      "execution_count": null,
      "metadata": {
        "id": "MtP76Bvt9MHu"
      },
      "outputs": [],
      "source": [
        "cleanup()\n",
        "print_gpu_utilization()\n",
        "\n",
        "for batch_size in [4, 8, 16]:\n",
        "    gpu_memory_experiment(batch_size)\n",
        "\n",
        "    torch.cuda.empty_cache()"
      ]
    },
    {
      "cell_type": "markdown",
      "metadata": {
        "id": "FxufLwLlhRvl"
      },
      "source": [
        "## 예제 5.10. 그레이디언트 누적을 적용했을 때 메모리 사용량"
      ]
    },
    {
      "cell_type": "code",
      "execution_count": null,
      "metadata": {
        "id": "q03_I4BoE0LK"
      },
      "outputs": [],
      "source": [
        "cleanup()\n",
        "print_gpu_utilization()\n",
        "\n",
        "gpu_memory_experiment(batch_size=4, gradient_accumulation_steps=4)\n",
        "\n",
        "torch.cuda.empty_cache()"
      ]
    },
    {
      "cell_type": "markdown",
      "metadata": {
        "id": "dptic2nThW0h"
      },
      "source": [
        "## 예제 5.11. 그레이디언트 체크포인팅 사용 시 메모리 사용량"
      ]
    },
    {
      "cell_type": "code",
      "execution_count": null,
      "metadata": {
        "id": "PQADaxmvFO3H"
      },
      "outputs": [],
      "source": [
        "cleanup()\n",
        "print_gpu_utilization()\n",
        "\n",
        "gpu_memory_experiment(batch_size=16, gradient_checkpointing=True)\n",
        "\n",
        "torch.cuda.empty_cache()"
      ]
    },
    {
      "cell_type": "markdown",
      "metadata": {
        "id": "icqVPpu-hjn0"
      },
      "source": [
        "## 예제 5.12. 모델을 불러오면서 LoRA 적용하기"
      ]
    },
    {
      "cell_type": "code",
      "execution_count": null,
      "metadata": {
        "id": "BVhrEQg7H_dh"
      },
      "outputs": [],
      "source": [
        "from transformers import AutoModelForCausalLM, AutoTokenizer\n",
        "from peft import LoraConfig, get_peft_model\n",
        "\n",
        "def load_model_and_tokenizer(model_id, peft=None):\n",
        "    tokenizer = AutoTokenizer.from_pretrained(model_id)\n",
        "\n",
        "    if peft is None:\n",
        "        model = AutoModelForCausalLM.from_pretrained(model_id, torch_dtype=\"auto\", device_map={\"\":0})\n",
        "\n",
        "    elif peft == 'lora':\n",
        "        model = AutoModelForCausalLM.from_pretrained(model_id, torch_dtype=\"auto\", device_map={\"\":0})\n",
        "        lora_config = LoraConfig(\n",
        "                    r=8,\n",
        "                    lora_alpha=32,\n",
        "                    target_modules=[\"query_key_value\"],\n",
        "                    lora_dropout=0.05,\n",
        "                    bias=\"none\",\n",
        "                    task_type=\"CAUSAL_LM\"\n",
        "                )\n",
        "\n",
        "        model = get_peft_model(model, lora_config)\n",
        "        model.print_trainable_parameters()\n",
        "\n",
        "    print_gpu_utilization()\n",
        "    return model, tokenizer"
      ]
    },
    {
      "cell_type": "markdown",
      "metadata": {
        "id": "qK6zCAhehqgT"
      },
      "source": [
        "## 예제 5.13. LoRA를 적용했을 때 GPU 메모리 사용량 확인"
      ]
    },
    {
      "cell_type": "code",
      "execution_count": null,
      "metadata": {
        "id": "FOY0LASuIZOB"
      },
      "outputs": [],
      "source": [
        "cleanup()\n",
        "print_gpu_utilization()\n",
        "\n",
        "gpu_memory_experiment(batch_size=16, peft='lora')\n",
        "\n",
        "torch.cuda.empty_cache()"
      ]
    },
    {
      "cell_type": "markdown",
      "metadata": {
        "id": "F_V-mWDhYvLG"
      },
      "source": [
        "## 예제 5.14. 4비트 양자화 모델 불러오기"
      ]
    },
    {
      "cell_type": "code",
      "execution_count": null,
      "metadata": {
        "id": "PGAJ3v0FYvLG"
      },
      "outputs": [],
      "source": [
        "from transformers import BitsAndBytesConfig\n",
        "nf4_config = BitsAndBytesConfig(\n",
        "    load_in_4bit=True,\n",
        "    bnb_4bit_quant_type=\"nf4\",\n",
        "    bnb_4bit_use_double_quant=True,\n",
        "    bnb_4bit_compute_dtype=torch.bfloat16\n",
        ")\n",
        "model_nf4 = AutoModelForCausalLM.from_pretrained(model_id, quantization_config=nf4_config)"
      ]
    },
    {
      "cell_type": "markdown",
      "metadata": {
        "id": "6l0Q9zslh5Bw"
      },
      "source": [
        "## 예제 5.15. 예제 5.11에서 QLoRA 모델을 불러오는 부분을 추가"
      ]
    },
    {
      "cell_type": "code",
      "execution_count": null,
      "metadata": {
        "id": "Z13B3SwCI-CL"
      },
      "outputs": [],
      "source": [
        "from transformers import AutoModelForCausalLM, AutoTokenizer, BitsAndBytesConfig\n",
        "from peft import LoraConfig, get_peft_model, prepare_model_for_kbit_training\n",
        "\n",
        "def load_model_and_tokenizer(model_id, peft=None):\n",
        "    tokenizer = AutoTokenizer.from_pretrained(model_id)\n",
        "\n",
        "    if peft is None:\n",
        "        model = AutoModelForCausalLM.from_pretrained(model_id, torch_dtype=\"auto\", device_map={\"\":0})\n",
        "\n",
        "    elif peft == 'lora':\n",
        "        model = AutoModelForCausalLM.from_pretrained(model_id, torch_dtype=\"auto\", device_map={\"\":0})\n",
        "        lora_config = LoraConfig(\n",
        "                    r=8,\n",
        "                    lora_alpha=32,\n",
        "                    target_modules=[\"query_key_value\"],\n",
        "                    lora_dropout=0.05,\n",
        "                    bias=\"none\",\n",
        "                    task_type=\"CAUSAL_LM\"\n",
        "                )\n",
        "\n",
        "        model = get_peft_model(model, lora_config)\n",
        "        model.print_trainable_parameters()\n",
        "    elif peft == 'qlora':\n",
        "        lora_config = LoraConfig(\n",
        "                    r=8,\n",
        "                    lora_alpha=32,\n",
        "                    target_modules=[\"query_key_value\"],\n",
        "                    lora_dropout=0.05,\n",
        "                    bias=\"none\",\n",
        "                    task_type=\"CAUSAL_LM\"\n",
        "                )\n",
        "        bnb_config = BitsAndBytesConfig(\n",
        "                  load_in_4bit=True,\n",
        "                  bnb_4bit_use_double_quant=True,\n",
        "                  bnb_4bit_quant_type=\"nf4\",\n",
        "                  bnb_4bit_compute_dtype=torch.float16\n",
        "              )\n",
        "        model = AutoModelForCausalLM.from_pretrained(model_id, quantization_config=bnb_config, device_map={\"\":0})\n",
        "        model.gradient_checkpointing_enable()\n",
        "        model = prepare_model_for_kbit_training(model)\n",
        "        model = get_peft_model(model, lora_config)\n",
        "        model.print_trainable_parameters()\n",
        "\n",
        "    print_gpu_utilization()\n",
        "    return model, tokenizer"
      ]
    },
    {
      "cell_type": "markdown",
      "metadata": {
        "id": "UfqY4675h9Tf"
      },
      "source": [
        "## 예제 5.16. QLoRA를 적용했을 때 GPU 메모리 사용량 확인"
      ]
    },
    {
      "cell_type": "code",
      "execution_count": null,
      "metadata": {
        "id": "X7lwejFmJdrv"
      },
      "outputs": [],
      "source": [
        "cleanup()\n",
        "print_gpu_utilization()\n",
        "\n",
        "gpu_memory_experiment(batch_size=16, peft='qlora')\n",
        "\n",
        "torch.cuda.empty_cache()"
      ]
    }
  ],
  "metadata": {
    "accelerator": "GPU",
    "colab": {
      "gpuType": "T4",
      "provenance": []
    },
    "kernelspec": {
      "display_name": "Python 3 (ipykernel)",
      "language": "python",
      "name": "python3"
    },
    "language_info": {
      "codemirror_mode": {
        "name": "ipython",
        "version": 3
      },
      "file_extension": ".py",
      "mimetype": "text/x-python",
      "name": "python",
      "nbconvert_exporter": "python",
      "pygments_lexer": "ipython3",
      "version": "3.11.4"
    }
  },
  "nbformat": 4,
  "nbformat_minor": 0
}